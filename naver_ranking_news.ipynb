{
 "cells": [
  {
   "cell_type": "code",
   "execution_count": 6,
   "id": "english-turning",
   "metadata": {},
   "outputs": [
    {
     "name": "stdout",
     "output_type": "stream",
     "text": [
      "총 소요시간은 8.728071212768555 초\n",
      "프로세스가 종료되었습니다.\n"
     ]
    },
    {
     "name": "stderr",
     "output_type": "stream",
     "text": [
      "c:\\program files\\python37\\lib\\site-packages\\ipykernel_launcher.py:56: FutureWarning: As the xlwt package is no longer maintained, the xlwt engine will be removed in a future version of pandas. This is the only engine in pandas that supports writing in the xls format. Install openpyxl and write to an xlsx file instead. You can set the option io.excel.xls.writer to 'xlwt' to silence this warning. While this option is deprecated and will also raise a warning, it can be globally set and the warning suppressed.\n"
     ]
    }
   ],
   "source": [
    "from bs4 import BeautifulSoup\n",
    "from selenium import webdriver\n",
    "import time\n",
    "import pandas as pd\n",
    "import math\n",
    "import xlwt\n",
    "import random\n",
    "import os\n",
    "\n",
    "#크롬 드라이버\n",
    "chrome_path = \"C:/Users/YEO/Desktop/크롤링 연습/chromedriver_91/chromedriver.exe\"\n",
    "driver = webdriver.Chrome(chrome_path)\n",
    "save_dir = 'C:/Users/YEO/Desktop/크롤링 결과/'\n",
    "start_time = time.time()#시작 시간\n",
    "\n",
    "fc_name = save_dir + '네이버_랭킹뉴스'+'.csv'\n",
    "fx_name = save_dir + '네이버_랭킹뉴스'+'.xls'\n",
    "\n",
    "#설정\n",
    "url ='https://news.naver.com/main/ranking/popularDay.naver'\n",
    "driver.get(url)\n",
    "time.sleep(2)\n",
    "\n",
    "html = driver.page_source\n",
    "soup = BeautifulSoup(html, 'html.parser')\n",
    "content = soup.find('div', '_officeCard _officeCard0').find_all('div', 'rankingnews_box')#여기엔 신문별로 랭킹 5개씩 저장\n",
    "\n",
    "press_list = []\n",
    "rank_list = [1,2,3,4,5]\n",
    "news_list = []\n",
    "\n",
    "#신문사, 순위, 뉴스 모두 리스트에 저장\n",
    "for i in content:\n",
    "    press = i.find('strong', 'rankingnews_name').get_text().replace(\"\\n\", '')\n",
    "    press_list.append(press)\n",
    "    \n",
    "    subcontent = i.find_all('li')\n",
    "    \n",
    "    for j in subcontent:\n",
    "        news = j.find('a', class_ = 'list_title').get_text()\n",
    "        news_list.append(news)\n",
    "        \n",
    "#리스트에 저장된 데이터를 바탕으로 일단 엑셀 표를 어떻게 그릴지 구상한 후\n",
    "#pandas 공부하면서 엑셀화 시켜보자\n",
    "data = pd.DataFrame()\n",
    "data['랭킹'] = pd.Series(rank_list)\n",
    "\n",
    "for i in range(int(len(press_list))):\n",
    "    temp = news_list[5*i:5*(i+1)]\n",
    "    data[press_list[i]] = pd.Series(temp)    \n",
    "\n",
    "#csv형태로 저장\n",
    "data.to_csv(fc_name, encoding='utf-8-sig', index = False)\n",
    "\n",
    "#excel형태로 저장\n",
    "data.to_excel(fx_name, index=False)\n",
    "\n",
    "#저장 후 프로세스 정보 보여주기\n",
    "end_time = time.time()\n",
    "process_time = end_time-start_time\n",
    "\n",
    "print('총 소요시간은 %s 초' %process_time)\n",
    "print('프로세스가 종료되었습니다.')\n",
    "driver.close()    \n",
    "\n"
   ]
  },
  {
   "cell_type": "code",
   "execution_count": null,
   "id": "suffering-consumer",
   "metadata": {},
   "outputs": [],
   "source": []
  }
 ],
 "metadata": {
  "kernelspec": {
   "display_name": "Python 3",
   "language": "python",
   "name": "python3"
  },
  "language_info": {
   "codemirror_mode": {
    "name": "ipython",
    "version": 3
   },
   "file_extension": ".py",
   "mimetype": "text/x-python",
   "name": "python",
   "nbconvert_exporter": "python",
   "pygments_lexer": "ipython3",
   "version": "3.7.5"
  }
 },
 "nbformat": 4,
 "nbformat_minor": 5
}
